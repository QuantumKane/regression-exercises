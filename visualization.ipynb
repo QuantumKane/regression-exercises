{
 "cells": [
  {
   "cell_type": "code",
   "execution_count": 11,
   "metadata": {},
   "outputs": [],
   "source": [
    "# imports\n",
    "import numpy as np\n",
    "import pandas as pd\n",
    "import matplotlib.pyplot as plt\n",
    "import seaborn as sns\n",
    "import warnings\n",
    "warnings.filterwarnings(\"ignore\")\n",
    "from env import host, user, password\n",
    "\n",
    "def get_connection(db, user=user, host=host, password=password):\n",
    "    '''\n",
    "    This function uses my info from my env file to\n",
    "    create a connection url to access the Codeup db.\n",
    "    '''\n",
    "    return f'mysql+pymysql://{user}:{password}@{host}/{db}'\n",
    "    \n",
    "\n",
    "def get_telco_data():\n",
    "    '''\n",
    "    This function uses the SQL query from below and specifies the database to use\n",
    "    '''\n",
    "    # SQL query that pulls the columns from the 'telco_churn' database     \n",
    "    sql_query = \"\"\"\n",
    "                SELECT customer_id, monthly_charges, tenure, total_charges\n",
    "                FROM customers \n",
    "                WHERE contract_type_id = 3;               \n",
    "                \"\"\"\n",
    "    return pd.read_sql(sql_query,get_connection('telco_churn'))"
   ]
  },
  {
   "cell_type": "code",
   "execution_count": 10,
   "metadata": {},
   "outputs": [
    {
     "name": "stdout",
     "output_type": "stream",
     "text": [
      "<class 'pandas.core.frame.DataFrame'>\n",
      "RangeIndex: 1695 entries, 0 to 1694\n",
      "Data columns (total 4 columns):\n",
      "customer_id        1695 non-null object\n",
      "monthly_charges    1695 non-null float64\n",
      "tenure             1695 non-null int64\n",
      "total_charges      1695 non-null object\n",
      "dtypes: float64(1), int64(1), object(2)\n",
      "memory usage: 53.1+ KB\n"
     ]
    }
   ],
   "source": [
    "df = get_telco_data()\n",
    "df.info()"
   ]
  },
  {
   "cell_type": "code",
   "execution_count": 16,
   "metadata": {},
   "outputs": [
    {
     "data": {
      "text/html": [
       "<div>\n",
       "<style scoped>\n",
       "    .dataframe tbody tr th:only-of-type {\n",
       "        vertical-align: middle;\n",
       "    }\n",
       "\n",
       "    .dataframe tbody tr th {\n",
       "        vertical-align: top;\n",
       "    }\n",
       "\n",
       "    .dataframe thead th {\n",
       "        text-align: right;\n",
       "    }\n",
       "</style>\n",
       "<table border=\"1\" class=\"dataframe\">\n",
       "  <thead>\n",
       "    <tr style=\"text-align: right;\">\n",
       "      <th></th>\n",
       "      <th>customer_id</th>\n",
       "      <th>monthly_charges</th>\n",
       "      <th>tenure</th>\n",
       "      <th>total_charges</th>\n",
       "    </tr>\n",
       "  </thead>\n",
       "  <tbody>\n",
       "    <tr>\n",
       "      <td>0</td>\n",
       "      <td>0013-SMEOE</td>\n",
       "      <td>109.70</td>\n",
       "      <td>71</td>\n",
       "      <td>7904.25</td>\n",
       "    </tr>\n",
       "    <tr>\n",
       "      <td>1</td>\n",
       "      <td>0014-BMAQU</td>\n",
       "      <td>84.65</td>\n",
       "      <td>63</td>\n",
       "      <td>5377.8</td>\n",
       "    </tr>\n",
       "    <tr>\n",
       "      <td>2</td>\n",
       "      <td>0016-QLJIS</td>\n",
       "      <td>90.45</td>\n",
       "      <td>65</td>\n",
       "      <td>5957.9</td>\n",
       "    </tr>\n",
       "    <tr>\n",
       "      <td>3</td>\n",
       "      <td>0017-DINOC</td>\n",
       "      <td>45.20</td>\n",
       "      <td>54</td>\n",
       "      <td>2460.55</td>\n",
       "    </tr>\n",
       "    <tr>\n",
       "      <td>4</td>\n",
       "      <td>0017-IUDMW</td>\n",
       "      <td>116.80</td>\n",
       "      <td>72</td>\n",
       "      <td>8456.75</td>\n",
       "    </tr>\n",
       "    <tr>\n",
       "      <td>...</td>\n",
       "      <td>...</td>\n",
       "      <td>...</td>\n",
       "      <td>...</td>\n",
       "      <td>...</td>\n",
       "    </tr>\n",
       "    <tr>\n",
       "      <td>1690</td>\n",
       "      <td>9964-WBQDJ</td>\n",
       "      <td>24.40</td>\n",
       "      <td>71</td>\n",
       "      <td>1725.4</td>\n",
       "    </tr>\n",
       "    <tr>\n",
       "      <td>1691</td>\n",
       "      <td>9972-EWRJS</td>\n",
       "      <td>19.25</td>\n",
       "      <td>67</td>\n",
       "      <td>1372.9</td>\n",
       "    </tr>\n",
       "    <tr>\n",
       "      <td>1692</td>\n",
       "      <td>9975-GPKZU</td>\n",
       "      <td>19.75</td>\n",
       "      <td>46</td>\n",
       "      <td>856.5</td>\n",
       "    </tr>\n",
       "    <tr>\n",
       "      <td>1693</td>\n",
       "      <td>9993-LHIEB</td>\n",
       "      <td>67.85</td>\n",
       "      <td>67</td>\n",
       "      <td>4627.65</td>\n",
       "    </tr>\n",
       "    <tr>\n",
       "      <td>1694</td>\n",
       "      <td>9995-HOTOH</td>\n",
       "      <td>59.00</td>\n",
       "      <td>63</td>\n",
       "      <td>3707.6</td>\n",
       "    </tr>\n",
       "  </tbody>\n",
       "</table>\n",
       "<p>1695 rows × 4 columns</p>\n",
       "</div>"
      ],
      "text/plain": [
       "     customer_id  monthly_charges  tenure total_charges\n",
       "0     0013-SMEOE           109.70      71       7904.25\n",
       "1     0014-BMAQU            84.65      63        5377.8\n",
       "2     0016-QLJIS            90.45      65        5957.9\n",
       "3     0017-DINOC            45.20      54       2460.55\n",
       "4     0017-IUDMW           116.80      72       8456.75\n",
       "...          ...              ...     ...           ...\n",
       "1690  9964-WBQDJ            24.40      71        1725.4\n",
       "1691  9972-EWRJS            19.25      67        1372.9\n",
       "1692  9975-GPKZU            19.75      46         856.5\n",
       "1693  9993-LHIEB            67.85      67       4627.65\n",
       "1694  9995-HOTOH            59.00      63        3707.6\n",
       "\n",
       "[1695 rows x 4 columns]"
      ]
     },
     "execution_count": 16,
     "metadata": {},
     "output_type": "execute_result"
    }
   ],
   "source": [
    "df."
   ]
  },
  {
   "cell_type": "code",
   "execution_count": 18,
   "metadata": {},
   "outputs": [
    {
     "name": "stdout",
     "output_type": "stream",
     "text": [
      "customer_id\n",
      "5485-ITNPC    1\n",
      "7473-ZBDSN    1\n",
      "3249-VHRIP    1\n",
      "3662-FXJFO    1\n",
      "3865-ZFZIB    1\n",
      "             ..\n",
      "2346-CZYIL    1\n",
      "1621-YNCJH    1\n",
      "1047-RNXZV    1\n",
      "6695-FRVEC    1\n",
      "2266-FUBDZ    1\n",
      "Name: customer_id, Length: 1695, dtype: int64\n",
      "----------\n",
      "monthly_charges\n",
      "19.70     21\n",
      "19.85     21\n",
      "20.05     19\n",
      "19.55     18\n",
      "19.75     17\n",
      "          ..\n",
      "114.35     1\n",
      "88.80      1\n",
      "63.70      1\n",
      "29.60      1\n",
      "95.75      1\n",
      "Name: monthly_charges, Length: 820, dtype: int64\n",
      "----------\n",
      "tenure\n",
      "72    343\n",
      "71    137\n",
      "70     88\n",
      "69     66\n",
      "68     65\n",
      "     ... \n",
      "3       3\n",
      "1       2\n",
      "5       1\n",
      "2       1\n",
      "28      1\n",
      "Name: tenure, Length: 73, dtype: int64\n",
      "----------\n",
      "total_charges\n",
      "NaN        10\n",
      "1110.05     2\n",
      "5682.25     2\n",
      "3533.6      2\n",
      "5714.2      2\n",
      "           ..\n",
      "762.45      1\n",
      "6562.9      1\n",
      "1718.2      1\n",
      "8425.15     1\n",
      "1638.7      1\n",
      "Name: total_charges, Length: 1678, dtype: int64\n",
      "----------\n"
     ]
    }
   ],
   "source": [
    "# Inspect values and dtypes\n",
    "\n",
    "for col in df.columns:\n",
    "    print(col)\n",
    "    print(df[col].value_counts(dropna=False))\n",
    "    print('----------')"
   ]
  },
  {
   "cell_type": "code",
   "execution_count": 19,
   "metadata": {},
   "outputs": [],
   "source": [
    "\n",
    "df['total_charges'] = df['total_charges'].replace(r'^\\s*$', np.nan, regex=True)"
   ]
  },
  {
   "cell_type": "code",
   "execution_count": 20,
   "metadata": {},
   "outputs": [
    {
     "data": {
      "text/plain": [
       "10"
      ]
     },
     "execution_count": 20,
     "metadata": {},
     "output_type": "execute_result"
    }
   ],
   "source": [
    "df.total_charges.isnull().sum()"
   ]
  },
  {
   "cell_type": "code",
   "execution_count": 21,
   "metadata": {},
   "outputs": [],
   "source": [
    "df = df.dropna()"
   ]
  },
  {
   "cell_type": "code",
   "execution_count": 23,
   "metadata": {},
   "outputs": [],
   "source": [
    "# reassign exam3 to integer type\n",
    "df['total_charges'] = df['total_charges'].astype('float')"
   ]
  },
  {
   "cell_type": "code",
   "execution_count": 24,
   "metadata": {},
   "outputs": [
    {
     "data": {
      "text/html": [
       "<div>\n",
       "<style scoped>\n",
       "    .dataframe tbody tr th:only-of-type {\n",
       "        vertical-align: middle;\n",
       "    }\n",
       "\n",
       "    .dataframe tbody tr th {\n",
       "        vertical-align: top;\n",
       "    }\n",
       "\n",
       "    .dataframe thead th {\n",
       "        text-align: right;\n",
       "    }\n",
       "</style>\n",
       "<table border=\"1\" class=\"dataframe\">\n",
       "  <thead>\n",
       "    <tr style=\"text-align: right;\">\n",
       "      <th></th>\n",
       "      <th>monthly_charges</th>\n",
       "      <th>tenure</th>\n",
       "      <th>total_charges</th>\n",
       "    </tr>\n",
       "  </thead>\n",
       "  <tbody>\n",
       "    <tr>\n",
       "      <td>count</td>\n",
       "      <td>1685.000000</td>\n",
       "      <td>1685.00000</td>\n",
       "      <td>1685.000000</td>\n",
       "    </tr>\n",
       "    <tr>\n",
       "      <td>mean</td>\n",
       "      <td>60.872374</td>\n",
       "      <td>57.07181</td>\n",
       "      <td>3728.933947</td>\n",
       "    </tr>\n",
       "    <tr>\n",
       "      <td>std</td>\n",
       "      <td>34.712210</td>\n",
       "      <td>17.72913</td>\n",
       "      <td>2571.252806</td>\n",
       "    </tr>\n",
       "    <tr>\n",
       "      <td>min</td>\n",
       "      <td>18.400000</td>\n",
       "      <td>1.00000</td>\n",
       "      <td>20.350000</td>\n",
       "    </tr>\n",
       "    <tr>\n",
       "      <td>25%</td>\n",
       "      <td>24.050000</td>\n",
       "      <td>48.00000</td>\n",
       "      <td>1278.800000</td>\n",
       "    </tr>\n",
       "    <tr>\n",
       "      <td>50%</td>\n",
       "      <td>64.450000</td>\n",
       "      <td>64.00000</td>\n",
       "      <td>3623.950000</td>\n",
       "    </tr>\n",
       "    <tr>\n",
       "      <td>75%</td>\n",
       "      <td>90.550000</td>\n",
       "      <td>71.00000</td>\n",
       "      <td>5999.850000</td>\n",
       "    </tr>\n",
       "    <tr>\n",
       "      <td>max</td>\n",
       "      <td>118.750000</td>\n",
       "      <td>72.00000</td>\n",
       "      <td>8672.450000</td>\n",
       "    </tr>\n",
       "  </tbody>\n",
       "</table>\n",
       "</div>"
      ],
      "text/plain": [
       "       monthly_charges      tenure  total_charges\n",
       "count      1685.000000  1685.00000    1685.000000\n",
       "mean         60.872374    57.07181    3728.933947\n",
       "std          34.712210    17.72913    2571.252806\n",
       "min          18.400000     1.00000      20.350000\n",
       "25%          24.050000    48.00000    1278.800000\n",
       "50%          64.450000    64.00000    3623.950000\n",
       "75%          90.550000    71.00000    5999.850000\n",
       "max         118.750000    72.00000    8672.450000"
      ]
     },
     "execution_count": 24,
     "metadata": {},
     "output_type": "execute_result"
    }
   ],
   "source": [
    "df.describe()"
   ]
  },
  {
   "cell_type": "code",
   "execution_count": 25,
   "metadata": {},
   "outputs": [
    {
     "data": {
      "image/png": "[encoded data removed]",
      "text/plain": [
       "<Figure size 936x360 with 3 Axes>"
      ]
     },
     "metadata": {
      "needs_background": "light"
     },
     "output_type": "display_data"
    }
   ],
   "source": [
    "# use subplots to view distribution of all non-id columns\n",
    "plt.figure(figsize=(13, 5))\n",
    "for i, col in enumerate(list(df.drop(columns='customer_id').columns)):\n",
    "    plotnum = i + 1\n",
    "    plt.subplot(1,3,plotnum)\n",
    "    plt.title(f'Distribution for {col}')\n",
    "    df[col].hist(bins=5)"
   ]
  },
  {
   "cell_type": "code",
   "execution_count": 26,
   "metadata": {},
   "outputs": [],
   "source": [
    "import wrangle"
   ]
  },
  {
   "cell_type": "code",
   "execution_count": 27,
   "metadata": {},
   "outputs": [],
   "source": [
    "train, validate, test = wrangle.wrangle_telco()"
   ]
  },
  {
   "cell_type": "code",
   "execution_count": 28,
   "metadata": {},
   "outputs": [
    {
     "data": {
      "text/plain": [
       "((949, 4), (407, 4), (339, 4))"
      ]
     },
     "execution_count": 28,
     "metadata": {},
     "output_type": "execute_result"
    }
   ],
   "source": [
    "train.shape, validate.shape, test.shape"
   ]
  },
  {
   "cell_type": "code",
   "execution_count": null,
   "metadata": {},
   "outputs": [],
   "source": []
  }
 ],
 "metadata": {
  "kernelspec": {
   "display_name": "Python 3",
   "language": "python",
   "name": "python3"
  },
  "language_info": {
   "codemirror_mode": {
    "name": "ipython",
    "version": 3
   },
   "file_extension": ".py",
   "mimetype": "text/x-python",
   "name": "python",
   "nbconvert_exporter": "python",
   "pygments_lexer": "ipython3",
   "version": "3.7.4"
  }
 },
 "nbformat": 4,
 "nbformat_minor": 4
}
